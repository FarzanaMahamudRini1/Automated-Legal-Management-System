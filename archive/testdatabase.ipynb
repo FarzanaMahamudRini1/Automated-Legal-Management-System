{
 "cells": [
  {
   "cell_type": "code",
   "execution_count": 1,
   "metadata": {},
   "outputs": [
    {
     "name": "stdout",
     "output_type": "stream",
     "text": [
      "Requirement already satisfied: mysql-connector-python in /usr/local/python/3.10.8/lib/python3.10/site-packages (8.2.0)\n",
      "Requirement already satisfied: protobuf<=4.21.12,>=4.21.1 in /usr/local/python/3.10.8/lib/python3.10/site-packages (from mysql-connector-python) (4.21.12)\n",
      "Note: you may need to restart the kernel to use updated packages.\n"
     ]
    }
   ],
   "source": [
    "pip install mysql-connector-python"
   ]
  },
  {
   "cell_type": "code",
   "execution_count": null,
   "metadata": {},
   "outputs": [],
   "source": [
    "import mysql.connector\n",
    "\n",
    "# Replace these values with your MySQL connection details\n",
    "db_config = {\n",
    "    'host': 'database-1.ctnfprzjtuyt.us-east-1.rds.amazonaws.com',\n",
    "    'user': 'admin',\n",
    "    'password': 'Dnnbmstn1jrg',\n",
    "    'database': 'DataWarehouse'\n",
    "}\n",
    "\n",
    "# Establish a connection to MySQL\n",
    "conn = mysql.connector.connect(**db_config)\n",
    "\n",
    "# Create a cursor to execute SQL queries\n",
    "cursor = conn.cursor()\n",
    "\n",
    "# SQL query to create a table\n",
    "create_table_query = \"\"\"\n",
    "    CREATE TABLE my_table (\n",
    "        id INT AUTO_INCREMENT PRIMARY KEY,\n",
    "        name VARCHAR(50)\n",
    "    )\n",
    "\"\"\"\n",
    "\n",
    "try:\n",
    "    # Execute the query to create the table\n",
    "    cursor.execute(create_table_query)\n",
    "    print(\"Table 'my_table' created successfully.\")\n",
    "\n",
    "except mysql.connector.Error as err:\n",
    "    print(f\"Error: {err}\")\n",
    "\n",
    "finally:\n",
    "    # Close the cursor and connection\n",
    "    cursor.close()\n",
    "    conn.close()"
   ]
  }
 ],
 "metadata": {
  "kernelspec": {
   "display_name": "Python 3",
   "language": "python",
   "name": "python3"
  },
  "language_info": {
   "codemirror_mode": {
    "name": "ipython",
    "version": 3
   },
   "file_extension": ".py",
   "mimetype": "text/x-python",
   "name": "python",
   "nbconvert_exporter": "python",
   "pygments_lexer": "ipython3",
   "version": "3.10.8"
  }
 },
 "nbformat": 4,
 "nbformat_minor": 2
}
