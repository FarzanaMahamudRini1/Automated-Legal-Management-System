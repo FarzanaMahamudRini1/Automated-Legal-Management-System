{
 "cells": [
  {
   "cell_type": "code",
   "execution_count": 1,
   "metadata": {},
   "outputs": [
    {
     "ename": "UnboundLocalError",
     "evalue": "local variable 'interest' referenced before assignment",
     "output_type": "error",
     "traceback": [
      "\u001b[0;31m---------------------------------------------------------------------------\u001b[0m",
      "\u001b[0;31mUnboundLocalError\u001b[0m                         Traceback (most recent call last)",
      "\u001b[1;32m/workspaces/judgmentCalc/Yuliya/Contractual Interest Calculator.ipynb Cell 1\u001b[0m line \u001b[0;36m4\n\u001b[1;32m     <a href='vscode-notebook-cell://codespaces%2Bdidactic-garbanzo-g4qvwr76q5q6hp946/workspaces/judgmentCalc/Yuliya/Contractual%20Interest%20Calculator.ipynb#W0sdnNjb2RlLXJlbW90ZQ%3D%3D?line=39'>40</a>\u001b[0m interest_type \u001b[39m=\u001b[39m \u001b[39minput\u001b[39m(\u001b[39m\"\u001b[39m\u001b[39mEnter Interest Type (Simple, Compound): \u001b[39m\u001b[39m\"\u001b[39m)\n\u001b[1;32m     <a href='vscode-notebook-cell://codespaces%2Bdidactic-garbanzo-g4qvwr76q5q6hp946/workspaces/judgmentCalc/Yuliya/Contractual%20Interest%20Calculator.ipynb#W0sdnNjb2RlLXJlbW90ZQ%3D%3D?line=41'>42</a>\u001b[0m \u001b[39m# Calculate and display the interest\u001b[39;00m\n\u001b[0;32m---> <a href='vscode-notebook-cell://codespaces%2Bdidactic-garbanzo-g4qvwr76q5q6hp946/workspaces/judgmentCalc/Yuliya/Contractual%20Interest%20Calculator.ipynb#W0sdnNjb2RlLXJlbW90ZQ%3D%3D?line=42'>43</a>\u001b[0m interest \u001b[39m=\u001b[39m calculate_interest(principal, due_date, rate, period, interest_type)\n\u001b[1;32m     <a href='vscode-notebook-cell://codespaces%2Bdidactic-garbanzo-g4qvwr76q5q6hp946/workspaces/judgmentCalc/Yuliya/Contractual%20Interest%20Calculator.ipynb#W0sdnNjb2RlLXJlbW90ZQ%3D%3D?line=43'>44</a>\u001b[0m \u001b[39mprint\u001b[39m(\u001b[39mf\u001b[39m\u001b[39m\"\u001b[39m\u001b[39mCalculated Interest: \u001b[39m\u001b[39m{\u001b[39;00minterest\u001b[39m:\u001b[39;00m\u001b[39m.2f\u001b[39m\u001b[39m}\u001b[39;00m\u001b[39m\"\u001b[39m)\n",
      "\u001b[1;32m/workspaces/judgmentCalc/Yuliya/Contractual Interest Calculator.ipynb Cell 1\u001b[0m line \u001b[0;36m2\n\u001b[1;32m     <a href='vscode-notebook-cell://codespaces%2Bdidactic-garbanzo-g4qvwr76q5q6hp946/workspaces/judgmentCalc/Yuliya/Contractual%20Interest%20Calculator.ipynb#W0sdnNjb2RlLXJlbW90ZQ%3D%3D?line=25'>26</a>\u001b[0m         n \u001b[39m=\u001b[39m \u001b[39m52\u001b[39m\n\u001b[1;32m     <a href='vscode-notebook-cell://codespaces%2Bdidactic-garbanzo-g4qvwr76q5q6hp946/workspaces/judgmentCalc/Yuliya/Contractual%20Interest%20Calculator.ipynb#W0sdnNjb2RlLXJlbW90ZQ%3D%3D?line=26'>27</a>\u001b[0m     interest \u001b[39m=\u001b[39m principal \u001b[39m*\u001b[39m (\u001b[39m1\u001b[39m \u001b[39m+\u001b[39m rate \u001b[39m/\u001b[39m n) \u001b[39m*\u001b[39m\u001b[39m*\u001b[39m (n \u001b[39m*\u001b[39m delta \u001b[39m/\u001b[39m \u001b[39m365\u001b[39m) \u001b[39m-\u001b[39m principal\n\u001b[0;32m---> <a href='vscode-notebook-cell://codespaces%2Bdidactic-garbanzo-g4qvwr76q5q6hp946/workspaces/judgmentCalc/Yuliya/Contractual%20Interest%20Calculator.ipynb#W0sdnNjb2RlLXJlbW90ZQ%3D%3D?line=28'>29</a>\u001b[0m \u001b[39mreturn\u001b[39;00m interest\n",
      "\u001b[0;31mUnboundLocalError\u001b[0m: local variable 'interest' referenced before assignment"
     ]
    }
   ],
   "source": [
    "from datetime import datetime\n",
    "\n",
    "# Function to parse the due date\n",
    "def parse_date(date_str):\n",
    "    try:\n",
    "        return datetime.strptime(date_str, \"%Y-%m-%d\")\n",
    "    except ValueError:\n",
    "        print(\"Invalid date format. Please use YYYY-MM-DD.\")\n",
    "        return None\n",
    "\n",
    "# Function to calculate interest\n",
    "def calculate_interest(principal, due_date, rate, period, interest_type):\n",
    "    today = datetime.now()\n",
    "    delta = (today - due_date).days\n",
    "\n",
    "    if interest_type == 'Simple':\n",
    "        interest = principal * rate * delta / 365\n",
    "    elif interest_type == 'Compound':\n",
    "        if period == 'per annum':\n",
    "            n = 1\n",
    "        elif period == 'monthly':\n",
    "            n = 12\n",
    "        elif period == 'per diem':\n",
    "            n = 365\n",
    "        elif period == 'weekly':\n",
    "            n = 52\n",
    "        interest = principal * (1 + rate / n) ** (n * delta / 365) - principal\n",
    "\n",
    "    return interest\n",
    "\n",
    "# CLI Input\n",
    "principal = float(input(\"Enter Principal Amount: \"))\n",
    "due_date_str = input(\"Enter Due Date (YYYY-MM-DD): \")\n",
    "due_date = parse_date(due_date_str)\n",
    "while due_date is None:\n",
    "    due_date_str = input(\"Enter Due Date (YYYY-MM-DD): \")\n",
    "    due_date = parse_date(due_date_str)\n",
    "rate = float(input(\"Enter Interest Rate (%): \")) / 100\n",
    "period = input(\"Enter Compounding Period (per annum, monthly, per diem, weekly): \")\n",
    "interest_type = input(\"Enter Interest Type (Simple, Compound): \")\n",
    "\n",
    "# Calculate and display the interest\n",
    "interest = calculate_interest(principal, due_date, rate, period, interest_type)\n",
    "print(f\"Calculated Interest: {interest:.2f}\")\n"
   ]
  }
 ],
 "metadata": {
  "kernelspec": {
   "display_name": "Python 3",
   "language": "python",
   "name": "python3"
  },
  "language_info": {
   "codemirror_mode": {
    "name": "ipython",
    "version": 3
   },
   "file_extension": ".py",
   "mimetype": "text/x-python",
   "name": "python",
   "nbconvert_exporter": "python",
   "pygments_lexer": "ipython3",
   "version": "3.10.8"
  }
 },
 "nbformat": 4,
 "nbformat_minor": 2
}
