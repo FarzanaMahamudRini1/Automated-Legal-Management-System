from datetime import date, timedelta

def get_interest_rates():
    # Logic to retrieve the applicable interest rates from a table
    # Replace this with your actual implementation
    # Example: For simplicity, using a dictionary as a placeholder
    interest_rates = {
        'liability1': 0.05,
        'liability2': 0.08,
        # Add more liability-item interest rates as needed
    }
    return interest_rates

def calculate_total_interest(principal_amount, applicable_interest_rate, start_of_segment, end_of_segment):
    # Calculate total interest for the segment
    days_in_segment = (end_of_segment - start_of_segment).days
    total_interest = principal_amount * applicable_interest_rate * (days_in_segment / 365)
    return total_interest

def update_case_details(liability_name, principal_amount, start_of_segment, end_of_segment, total_interest):
    # Logic to update case details with interest information
    # Replace this with your actual implementation
    print(f"Updating case details for {liability_name}:")
    print(f"Principal Amount: {principal_amount}")
    print(f"Interest Rate: {get_interest_rates().get(liability_name, 0.0)}")
    print(f"Start Date: {start_of_segment}")
    print(f"End Date: {end_of_segment}")
    print(f"Total Interest: {total_interest}")
    print()

def calculate_statutory_interest():
    liability_name = input("Enter the name of the liability: ")
    principal_amount = float(input("Enter the principal amount: "))
    start_of_segment = date.fromisoformat(input("Enter the start date of the segment (YYYY-MM-DD): "))
    end_of_segment = date.fromisoformat(input("Enter the end date of the segment (YYYY-MM-DD): "))
    
    interest_rates = get_interest_rates()
    
    applicable_interest_rate = interest_rates.get(liability_name, 0.0)

    # Allow the user to manually enter additional points above the prime rate
    additional_points = float(input(f"Enter additional points above the prime rate for {liability_name} (default is 0.0): ") or 0.0)

    # Calculate total interest for the segment
    total_interest = calculate_total_interest(principal_amount, applicable_interest_rate + additional_points, start_of_segment, end_of_segment)

    # Update case details with interest information
    update_case_details(liability_name, principal_amount, start_of_segment, end_of_segment, total_interest)

# Example usage:
calculate_statutory_interest()
