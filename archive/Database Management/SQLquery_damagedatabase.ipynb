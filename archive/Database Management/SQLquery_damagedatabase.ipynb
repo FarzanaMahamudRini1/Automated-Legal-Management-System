{
 "cells": [
  {
   "cell_type": "code",
   "execution_count": null,
   "metadata": {},
   "outputs": [],
   "source": [
    "\n",
    "sqlUser = 'admin'\n",
    "sqlPassword = 'Dnnbmstn1jrg'\n",
    "sqlHost = 'database-1.ctnfprzjtuyt.us-east-1.rds.amazonaws.com'\n",
    "\n",
    "import mysql.connector\n",
    "\n",
    "# Define the new database name\n",
    "new_database = 'DamagesDatabase'\n",
    "\n",
    "# Define the database connection parameters\n",
    "config = {\n",
    "    'user': sqlUser,\n",
    "    'password': sqlPassword,\n",
    "    'host': sqlHost,\n",
    "    'database': new_database  # Include the new database in the configuration\n",
    "}\n",
    "\n",
    "# Create a connection to the new database\n",
    "with mysql.connector.connect(**config) as conn:\n",
    "    # Create a cursor to execute queries\n",
    "    with conn.cursor() as cursor:\n",
    "        # Define the table name and attributes\n",
    "        table_name = 'damages'\n",
    "        attributes = 'Column1 INT, Column2 INT'\n",
    "\n",
    "        # Define the SQL query to create the table\n",
    "        create_table_query = f\"CREATE TABLE {table_name} ({attributes})\"\n",
    "        cursor.execute(create_table_query)\n",
    "\n",
    "        # Example INSERT query\n",
    "        insert_query = \"INSERT INTO damages (Column1, Column2) VALUES (%s, %s)\"\n",
    "        insert_data = (value1, value2)  # Replace with actual values\n",
    "        cursor.execute(insert_query, insert_data)\n",
    "\n",
    "        # Example SELECT query\n",
    "        select_query = \"SELECT * FROM damages\"\n",
    "        cursor.execute(select_query)\n",
    "        result = cursor.fetchall()\n",
    "        print(result)\n",
    "\n",
    "        # Example DELETE query\n",
    "        delete_query = \"DELETE FROM damages WHERE Column1 = %s\"\n",
    "        delete_data = (value_to_delete,)  # Replace with actual value\n",
    "        cursor.execute(delete_query, delete_data)\n",
    "\n",
    "        # Commit the changes\n",
    "        conn.commit()\n"
   ]
  }
 ],
 "metadata": {
  "language_info": {
   "name": "python"
  }
 },
 "nbformat": 4,
 "nbformat_minor": 2
}
