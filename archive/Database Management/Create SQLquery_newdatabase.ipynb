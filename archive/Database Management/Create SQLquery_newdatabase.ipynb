import mysql.connector

def get_database_credentials():
    # Ask for user input for database credentials
    sqlUser = 'admin'
    sqlPassword = 'Dnnbmstn1jrg'
    sqlHost = 'database-1.ctnfprzjtuyt.us-east-1.rds.amazonaws.com'
    sqldatabase = 'DataWarehouse'
    return {
        'user': sqlUser,
        'password': sqlPassword,
        'host': sqlHost,
        'database': sqldatabase
    }

def create_table(cursor):
    # Define the 'damages' table attributes
    table_name = 'damages'
    attributes = 'id INT AUTO_INCREMENT PRIMARY KEY, Column1 INT, Column2 INT'

    # Define the SQL query to create the 'damages' table
    query = f"CREATE TABLE IF NOT EXISTS {table_name} ({attributes})"
    cursor.execute(query)

def create_record(cursor, data):
    # Define the SQL query to insert a record into the 'damages' table
    query = "INSERT INTO damages (Column1, Column2) VALUES (%s, %s)"
    cursor.execute(query, data)

def read_records(cursor):
    # Define the SQL query to retrieve all records from the 'damages' table
    query = "SELECT * FROM damages"
    cursor.execute(query)
    return cursor.fetchall()

def update_record(cursor, record_id, new_data):
    # Define the SQL query to update a record in the 'damages' table
    query = "UPDATE damages SET Column1 = %s, Column2 = %s WHERE id = %s"
    cursor.execute(query, (*new_data, record_id))

def delete_record(cursor, record_id):
    # Define the SQL query to delete a record from the 'damages' table
    query = "DELETE FROM damages WHERE id = %s"
    cursor.execute(query, (record_id,))

def main():
    credentials = get_database_credentials()

    # Create a connection to the MySQL server
    with mysql.connector.connect(**credentials) as conn:
        # Create a cursor to execute queries
        with conn.cursor() as cursor:
            create_table(cursor)

            # Example of creating a record
            data_to_insert = (value1, value2)  # Replace with actual values
            create_record(cursor, data_to_insert)

            # Example of reading records
            records = read_records(cursor)
            print("Records in 'damages' table:", records)

            # Example of updating a record
            record_id_to_update = 1  # Replace with the actual record ID
            new_data_for_update = (new_value1, new_value2)  # Replace with actual values
            update_record(cursor, record_id_to_update, new_data_for_update)

            # Example of deleting a record
            record_id_to_delete = 2  # Replace with the actual record ID
            delete_record(cursor, record_id_to_delete)

if __name__ == "__main__":
    main()
 "nbformat_minor": 2
}
