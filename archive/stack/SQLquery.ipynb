{
 "cells": [
  {
   "cell_type": "code",
   "execution_count": null,
   "metadata": {},
   "outputs": [],
   "source": [
    "pip install mysql-connector-python\n"
   ]
  },
  {
   "cell_type": "code",
   "execution_count": 9,
   "metadata": {},
   "outputs": [],
   "source": [
    "#Ask for credentital input an assing the to a variable\n",
    "\n",
    "sqlUser = 'admin'\n",
    "sqlPassword = 'Dnnbmstn1jrg'\n",
    "sqlHost = 'database-1.ctnfprzjtuyt.us-east-1.rds.amazonaws.com'\n",
    "sqldatabase = 'DataWarehouse'\n",
    "\n",
    "import mysql.connector\n",
    "\n",
    "# Define the database connection parameters\n",
    "config = {\n",
    "    'user': sqlUser,\n",
    "    'password': sqlPassword,\n",
    "    'host': sqlHost,\n",
    "    'database': sqldatabase\n",
    "}\n",
    "\n",
    "# Define the table name and attributes\n",
    "table_name = 'tablename'\n",
    "attributes = 'Column1 int, Column2 int'\n",
    "\n",
    "# Define the SQL query to create the table\n",
    "query = f\"CREATE TABLE {table_name} ({attributes})\"\n",
    "\n",
    "# Create a connection to the database and execute the query\n",
    "with mysql.connector.connect(**config) as conn:\n",
    "    with conn.cursor() as cursor:\n",
    "        cursor.execute(query)\n"
   ]
  }
 ],
 "metadata": {
  "kernelspec": {
   "display_name": "Python 3",
   "language": "python",
   "name": "python3"
  },
  "language_info": {
   "codemirror_mode": {
    "name": "ipython",
    "version": 3
   },
   "file_extension": ".py",
   "mimetype": "text/x-python",
   "name": "python",
   "nbconvert_exporter": "python",
   "pygments_lexer": "ipython3",
   "version": "3.10.8"
  }
 },
 "nbformat": 4,
 "nbformat_minor": 2
}
